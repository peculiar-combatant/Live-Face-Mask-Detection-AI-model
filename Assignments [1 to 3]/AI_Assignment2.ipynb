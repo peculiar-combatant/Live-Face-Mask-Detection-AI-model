{
  "nbformat": 4,
  "nbformat_minor": 0,
  "metadata": {
    "colab": {
      "provenance": []
    },
    "kernelspec": {
      "name": "python3",
      "display_name": "Python 3"
    },
    "language_info": {
      "name": "python"
    }
  },
  "cells": [
    {
      "cell_type": "markdown",
      "source": [
        "# **AI Assignment 2**\n",
        "\n",
        "\n",
        "---\n",
        "\n",
        "\n",
        "\n",
        "---\n",
        "\n",
        "\n",
        "Build an ANN model for Drug classification. 28th May, 2023\n",
        "                                                              \n",
        "\n",
        "> Ananya Singh(20MIC0095) \n",
        "\n",
        "\n",
        "\n",
        "---\n",
        "\n",
        "\n",
        "\n",
        "---\n",
        "\n",
        "\n"
      ],
      "metadata": {
        "id": "5mf7pciMEvP8"
      }
    },
    {
      "cell_type": "markdown",
      "source": [
        "# Task 1:\n",
        "Read the dataset and do data pre-processing"
      ],
      "metadata": {
        "id": "ImJ-TgjRFX6E"
      }
    },
    {
      "cell_type": "code",
      "source": [
        "import pandas as pd\n",
        "from sklearn.model_selection import train_test_split\n",
        "from sklearn.preprocessing import LabelEncoder, OneHotEncoder\n",
        "\n",
        "#load the dataset\n",
        "data = pd.read_csv('/content/drug_classification.csv')\n",
        "\n",
        "print(\"Assignment by : Ananya Singh(20MIC0095)\")\n",
        "print()\n",
        "# Inspect the dataset\n",
        "print(data.head())\n",
        "print(data.shape)"
      ],
      "metadata": {
        "colab": {
          "base_uri": "https://localhost:8080/"
        },
        "id": "_U0qixHFLGU_",
        "outputId": "fe6d8e78-6d78-450b-930f-72fa6908f732"
      },
      "execution_count": 72,
      "outputs": [
        {
          "output_type": "stream",
          "name": "stdout",
          "text": [
            "Assignment by : Ananya Singh(20MIC0095)\n",
            "\n",
            "   Age Sex      BP Cholesterol  Na_to_K   Drug\n",
            "0   23   F    HIGH        HIGH   25.355  DrugY\n",
            "1   47   M     LOW        HIGH   13.093  drugC\n",
            "2   47   M     LOW        HIGH   10.114  drugC\n",
            "3   28   F  NORMAL        HIGH    7.798  drugX\n",
            "4   61   F     LOW        HIGH   18.043  DrugY\n",
            "(200, 6)\n"
          ]
        }
      ]
    },
    {
      "cell_type": "code",
      "source": [
        "# Check for missing values\n",
        "print(data.isnull().sum())"
      ],
      "metadata": {
        "colab": {
          "base_uri": "https://localhost:8080/"
        },
        "id": "40Wjpb99oWB-",
        "outputId": "e34a906b-a07d-4346-a080-c7ff8098a974"
      },
      "execution_count": 73,
      "outputs": [
        {
          "output_type": "stream",
          "name": "stdout",
          "text": [
            "Age            0\n",
            "Sex            0\n",
            "BP             0\n",
            "Cholesterol    0\n",
            "Na_to_K        0\n",
            "Drug           0\n",
            "dtype: int64\n"
          ]
        }
      ]
    },
    {
      "cell_type": "code",
      "source": [
        "# No missing values in the dataset\n",
        "#sepparating the features(inputs) and labels(outputs)\n",
        "X = data.drop('Drug', axis=1)  # Features\n",
        "y = data['Drug']  # Labels"
      ],
      "metadata": {
        "id": "FfBIxRSEXkwE"
      },
      "execution_count": 74,
      "outputs": []
    },
    {
      "cell_type": "code",
      "source": [
        "#encoding categorical labels\n",
        "label_encoder = LabelEncoder()\n",
        "y_encoded = label_encoder.fit_transform(y)\n",
        "\n",
        "#encoding categorical features\n",
        "categorical_features = ['Sex','BP']\n",
        "X_encoded = pd.get_dummies(X, columns=categorical_features)\n"
      ],
      "metadata": {
        "id": "HO2YwlwkgNU2"
      },
      "execution_count": null,
      "outputs": []
    },
    {
      "cell_type": "code",
      "source": [
        "#spliting the dataset into training and testing sets\n",
        "X_train, X_test, y_train, y_test = train_test_split(X_encoded, y_encoded, test_size=0.2, random_state=42)"
      ],
      "metadata": {
        "id": "xQpmKYdzXz7W"
      },
      "execution_count": null,
      "outputs": []
    },
    {
      "cell_type": "markdown",
      "source": [
        "# Task 2: \n",
        "Build the ANN model with (input layer, min 3 hidden layers & output layer)\n"
      ],
      "metadata": {
        "id": "YedLyPk6MqZy"
      }
    },
    {
      "cell_type": "code",
      "source": [
        "import tensorflow as tf\n",
        "from tensorflow import keras\n",
        "\n",
        "# Build the ANN model\n",
        "model = keras.Sequential([\n",
        "    keras.layers.Dense(64, activation='relu', input_shape=(X_train.shape[1],)),\n",
        "    keras.layers.Dense(128, activation='relu'),\n",
        "    keras.layers.Dense(64, activation='relu'),\n",
        "    keras.layers.Dense(len(label_encoder.classes_), activation='softmax')\n",
        "])\n",
        "\n",
        "# Compile the model\n",
        "model.compile(optimizer='adam', loss='sparse_categorical_crossentropy', metrics=['accuracy'])\n",
        "\n",
        "# Print the model summary\n",
        "model.summary()\n"
      ],
      "metadata": {
        "colab": {
          "base_uri": "https://localhost:8080/"
        },
        "id": "QwUcAA_UlN_o",
        "outputId": "d400e900-a06b-4bf4-f1e0-1b383ff48ef6"
      },
      "execution_count": null,
      "outputs": [
        {
          "output_type": "stream",
          "name": "stdout",
          "text": [
            "Model: \"sequential_16\"\n",
            "_________________________________________________________________\n",
            " Layer (type)                Output Shape              Param #   \n",
            "=================================================================\n",
            " dense_64 (Dense)            (None, 64)                576       \n",
            "                                                                 \n",
            " dense_65 (Dense)            (None, 128)               8320      \n",
            "                                                                 \n",
            " dense_66 (Dense)            (None, 64)                8256      \n",
            "                                                                 \n",
            " dense_67 (Dense)            (None, 5)                 325       \n",
            "                                                                 \n",
            "=================================================================\n",
            "Total params: 17,477\n",
            "Trainable params: 17,477\n",
            "Non-trainable params: 0\n",
            "_________________________________________________________________\n"
          ]
        }
      ]
    },
    {
      "cell_type": "markdown",
      "source": [
        "# Task 3: \n",
        "Test the model with random data"
      ],
      "metadata": {
        "id": "1n09qOKSQriC"
      }
    },
    {
      "cell_type": "code",
      "source": [
        "import numpy as np\n",
        "\n",
        "# Generate random data for prediction\n",
        "random_data = np.random.rand(5, X_train.shape[1])"
      ],
      "metadata": {
        "id": "yMxviHV6llab"
      },
      "execution_count": null,
      "outputs": []
    },
    {
      "cell_type": "code",
      "source": [
        "# Make predictions on random data\n",
        "predictions = model.predict(random_data)"
      ],
      "metadata": {
        "colab": {
          "base_uri": "https://localhost:8080/"
        },
        "id": "EK5HHozvlqMq",
        "outputId": "c141f989-39da-4ab5-831c-5eb0092ec4ad"
      },
      "execution_count": null,
      "outputs": [
        {
          "output_type": "stream",
          "name": "stdout",
          "text": [
            "1/1 [==============================] - 0s 72ms/step\n"
          ]
        }
      ]
    },
    {
      "cell_type": "code",
      "source": [
        "# Decode the predictions\n",
        "decoded_predictions = label_encoder.inverse_transform(np.argmax(predictions, axis=1))"
      ],
      "metadata": {
        "id": "JF16-nA7lwE7"
      },
      "execution_count": null,
      "outputs": []
    },
    {
      "cell_type": "code",
      "source": [
        "# Print the predictions\n",
        "print(\"Random Data Predictions:\")\n",
        "for i, prediction in enumerate(decoded_predictions):\n",
        "    print(f\"Sample {i+1}: {prediction}\")"
      ],
      "metadata": {
        "colab": {
          "base_uri": "https://localhost:8080/"
        },
        "id": "pahZ_R2glxXF",
        "outputId": "d95f2d19-8f1f-4892-fb6c-1e139cde1ad7"
      },
      "execution_count": null,
      "outputs": [
        {
          "output_type": "stream",
          "name": "stdout",
          "text": [
            "Random Data Predictions:\n",
            "Sample 1: drugB\n",
            "Sample 2: DrugY\n",
            "Sample 3: DrugY\n",
            "Sample 4: drugA\n",
            "Sample 5: drugA\n"
          ]
        }
      ]
    }
  ]
}